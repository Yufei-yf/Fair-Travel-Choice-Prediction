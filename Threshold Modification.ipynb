{
 "cells": [
  {
   "cell_type": "code",
   "execution_count": 69,
   "id": "a16bb70a",
   "metadata": {},
   "outputs": [],
   "source": [
    "import numpy as np\n",
    "import pandas as pd\n",
    "import math\n",
    "import time\n",
    "import tensorflow as tf\n",
    "from numpy.random import choice as np_choice\n",
    "from numpy import loadtxt\n",
    "from sklearn.metrics import accuracy_score\n",
    "from sklearn import metrics\n",
    "from sklearn.model_selection import train_test_split\n",
    "from sklearn.metrics import confusion_matrix\n",
    "from keras.models import Sequential\n",
    "from keras.layers import Dense\n",
    "from keras.layers import LSTM\n",
    "from keras import optimizers\n",
    "from keras.layers import Dropout\n",
    "from tensorflow.keras.models import load_model\n",
    "from sympy import solve\n",
    "from sympy.abc import x\n",
    "from sympy import symbols"
   ]
  },
  {
   "cell_type": "code",
   "execution_count": 19,
   "id": "10218a1d",
   "metadata": {},
   "outputs": [],
   "source": [
    "data_df = pd.read_pickle(\".Data/BUS_HIGH_2size_W.pkl\")\n",
    "x = data_df['X_all_raw']\n",
    "y = data_df['Y_all']\n",
    "x_train,x_test,y_train,y_test = train_test_split(x, y, test_size=0.2, random_state = 3, stratify = y)\n",
    "x_val = x_train\n",
    "y_val = y_train\n",
    "model = load_model('Pub_model.h5',compile=False)"
   ]
  },
  {
   "cell_type": "code",
   "execution_count": 20,
   "id": "3f0595c2",
   "metadata": {},
   "outputs": [],
   "source": [
    "###### X_val\n",
    "y_predv = (model.predict(x_val)>0.5).astype(\"int32\")\n",
    "temptv = x_val.copy()\n",
    "temptv['pub'] = y_val\n",
    "temptv['pred'] = y_predv\n",
    "\n",
    "x_heduv = x_val[x_val['EDUC_1']==0]\n",
    "y_heduv= temptv[temptv['EDUC_1']==0]['pub']\n",
    "m_heduv = model.predict(x_heduv)\n",
    "\n",
    "x_leduv = x_val[x_val['EDUC_1']==1]\n",
    "y_leduv = temptv[temptv['EDUC_1']==1]['pub']\n",
    "m_leduv = model.predict(x_leduv)\n",
    "\n",
    "x_femalev = x_val[x_val['R_SEX_IMP_NEW']==0]\n",
    "y_femalev = temptv[temptv['R_SEX_IMP_NEW']==0]['pub']\n",
    "m_femalev = model.predict(x_femalev)\n",
    "\n",
    "x_malev = x_val[x_val['R_SEX_IMP_NEW']==1]\n",
    "y_malev = temptv[temptv['R_SEX_IMP_NEW']==1]['pub']\n",
    "m_malev = model.predict(x_malev)\n",
    "\n",
    "x_wmedv = x_val[x_val['MEDCOND_NEW']==1]\n",
    "y_wmedv = temptv[temptv['MEDCOND_NEW']==1]['pub']\n",
    "m_wmedv = model.predict(x_wmedv)\n",
    "\n",
    "x_nomedv = x_val[x_val['MEDCOND_NEW']==0]\n",
    "y_nomedv = temptv[temptv['MEDCOND_NEW']==0]['pub']\n",
    "m_nomedv = model.predict(x_nomedv)\n",
    "\n",
    "x_minv = x_val[x_val['HH_RACE_MINORITY']==1]\n",
    "y_minv = temptv[temptv['HH_RACE_MINORITY']==1]['pub']\n",
    "m_minv = model.predict(x_minv)\n",
    "\n",
    "x_mav = x_val[x_val['HH_RACE_MINORITY']==0]\n",
    "y_mav = temptv[temptv['HH_RACE_MINORITY']==0]['pub']\n",
    "m_mav = model.predict(x_mav)\n",
    "\n",
    "x_lowinv = x_val[x_val['POVERTY']==1]\n",
    "y_lowinv = temptv[temptv['POVERTY']==1]['pub']\n",
    "m_lowinv = model.predict(x_lowinv)\n",
    "\n",
    "x_highinv = x_val[x_val['POVERTY']==0]\n",
    "y_highinv = temptv[temptv['POVERTY']==0]['pub']\n",
    "m_highinv = model.predict(x_highinv)\n",
    "\n",
    "x_ruralv = x_val[x_val['URBRUR_NEW']==0]\n",
    "y_ruralv= temptv[temptv['URBRUR_NEW']==0]['pub']\n",
    "m_ruralv = model.predict(x_ruralv)\n",
    "\n",
    "x_urbanv = x_val[x_val['URBRUR_NEW']==1]\n",
    "y_urbanv = temptv[temptv['URBRUR_NEW']==1]['pub']\n",
    "m_urbanv = model.predict(x_urbanv)\n",
    "\n",
    "x_driverv = x_val[x_val['DRIVER']==1]\n",
    "y_driverv = temptv[temptv['DRIVER']==1]['pub']\n",
    "m_driverv = model.predict(x_driverv)\n",
    "\n",
    "x_nodriverv = x_val[x_val['DRIVER']==0]\n",
    "y_nodriverv = temptv[temptv['DRIVER']==0]['pub']\n",
    "m_nodriverv = model.predict(x_nodriverv)"
   ]
  },
  {
   "cell_type": "code",
   "execution_count": 21,
   "id": "ed99c2ce",
   "metadata": {},
   "outputs": [],
   "source": [
    "#### X_test\n",
    "y_pred = (model.predict(x_test)>0.5).astype(\"int32\")\n",
    "tempt = x_test.copy()\n",
    "tempt['pub'] = y_test\n",
    "tempt['pred'] = y_pred\n",
    "\n",
    "x_test_high_edu = x_test[x_test['EDUC_1']==0]\n",
    "y_test_high_edu = tempt[tempt['EDUC_1']==0]['pub']\n",
    "modelpred_high_edu = model.predict(x_test_high_edu)\n",
    "\n",
    "x_test_low_edu = x_test[x_test['EDUC_1']==1]\n",
    "y_test_low_edu = tempt[tempt['EDUC_1']==1]['pub']\n",
    "modelpred_low_edu = model.predict(x_test_low_edu)\n",
    "\n",
    "x_test_female = x_test[x_test['R_SEX_IMP_NEW']==0]\n",
    "y_test_female = tempt[tempt['R_SEX_IMP_NEW']==0]['pub']\n",
    "modelpred_female = model.predict(x_test_female)\n",
    "\n",
    "x_test_male = x_test[x_test['R_SEX_IMP_NEW']==1]\n",
    "y_test_male = tempt[tempt['R_SEX_IMP_NEW']==1]['pub']\n",
    "modelpred_male = model.predict(x_test_male)\n",
    "\n",
    "x_test_wmed = x_test[x_test['MEDCOND_NEW']==1]\n",
    "y_test_wmed = tempt[tempt['MEDCOND_NEW']==1]['pub']\n",
    "modelpred_wmed = model.predict(x_test_wmed)\n",
    "\n",
    "x_test_nomed = x_test[x_test['MEDCOND_NEW']==0]\n",
    "y_test_nomed = tempt[tempt['MEDCOND_NEW']==0]['pub']\n",
    "modelpred_nomed = model.predict(x_test_nomed)\n",
    "\n",
    "x_test_min = x_test[x_test['HH_RACE_MINORITY']==1]\n",
    "y_test_min = tempt[tempt['HH_RACE_MINORITY']==1]['pub']\n",
    "modelpred_min = model.predict(x_test_min)\n",
    "\n",
    "x_test_ma = x_test[x_test['HH_RACE_MINORITY']==0]\n",
    "y_test_ma = tempt[tempt['HH_RACE_MINORITY']==0]['pub']\n",
    "modelpred_ma = model.predict(x_test_ma)\n",
    "\n",
    "x_test_lowin = x_test[x_test['POVERTY']==1]\n",
    "y_test_lowin = tempt[tempt['POVERTY']==1]['pub']\n",
    "modelpred_lowin = model.predict(x_test_lowin)\n",
    "\n",
    "x_test_highin = x_test[x_test['POVERTY']==0]\n",
    "y_test_highin = tempt[tempt['POVERTY']==0]['pub']\n",
    "modelpred_highin = model.predict(x_test_highin)\n",
    "\n",
    "x_test_rural = x_test[x_test['URBRUR_NEW']==0]\n",
    "y_test_rural= tempt[tempt['URBRUR_NEW']==0]['pub']\n",
    "modelpred_rural = model.predict(x_test_rural)\n",
    "\n",
    "x_test_urban = x_test[x_test['URBRUR_NEW']==1]\n",
    "y_test_urban = tempt[tempt['URBRUR_NEW']==1]['pub']\n",
    "modelpred_urban = model.predict(x_test_urban)\n",
    "\n",
    "data_driver = x_test[x_test['DRIVER']==1]\n",
    "x_test_driver = x_test[x_test['DRIVER']==1]\n",
    "y_test_driver = tempt[tempt['DRIVER']==1]['pub']\n",
    "modelpred_driver = model.predict(x_test_driver)\n",
    "\n",
    "x_test_nodriver = x_test[x_test['DRIVER']==0]\n",
    "y_test_nodriver = tempt[tempt['DRIVER']==0]['pub']\n",
    "modelpred_nodriver = model.predict(x_test_nodriver)"
   ]
  },
  {
   "cell_type": "code",
   "execution_count": 23,
   "id": "e35b481d",
   "metadata": {},
   "outputs": [],
   "source": [
    "def calz(g1,g2,g1_acc,g2_acc):\n",
    "    n1 = len(g1)\n",
    "    y1 = int(n1*g1_acc)\n",
    "    p1 = y1/n1\n",
    "    n2 = len(g2)\n",
    "    y2 = int(n2*g2_acc)\n",
    "    p2 = y2/n2\n",
    "    pavg = (y1+y2)/(n1+n2)\n",
    "    Z = (p1-p2-0)/(pavg*(1-pavg)*(1/n1+1/n2))**0.5\n",
    "    return Z"
   ]
  },
  {
   "cell_type": "code",
   "execution_count": 40,
   "id": "59717c7d",
   "metadata": {},
   "outputs": [],
   "source": [
    "def cal_p1(Zc,p2,n1,n2):\n",
    "    return solve((x-p2)**2/((x*n1+p2*n2)/(n1*n2)*(1-(x*n1+p2*n2)/(n1+n2)))-Zc*Zc, x)\n",
    "\n",
    "def cal_p2(Zc,p1,n1,n2):\n",
    "    return solve((p1-x)**2/((p1*n1+x*n2)/(n1*n2)*(1-(p1*n1+x*n2)/(n1+n2)))-Zc*Zc, x)"
   ]
  },
  {
   "cell_type": "code",
   "execution_count": 41,
   "id": "98d13e1a",
   "metadata": {},
   "outputs": [],
   "source": [
    "def findopt_heu_v1(Zc,group1_pred,group2_pred,group1_obs,group2_obs):\n",
    "    start = time.perf_counter()\n",
    "    y_test1 = pd.DataFrame(group1_pred,columns=['utility'])\n",
    "    y_test1['pred'] = group1_obs.values\n",
    "    y1 = y_test1[y_test1['pred']==0]\n",
    "    y2 = y_test1[y_test1['pred']==1]\n",
    "    zero_max = max(y1['utility']) \n",
    "    one_min = min(y2['utility']) \n",
    "    zog1 = []\n",
    "    ong1  = []\n",
    "    in_acc = metrics.accuracy_score(y_test1['pred'],(np.array(y_test1['utility'])>0.5).astype(\"int32\"))\n",
    "    opt_th = (zero_max+one_min)/2\n",
    "    opt_th1 = opt_th\n",
    "    if(one_min < zero_max):\n",
    "      while (True):\n",
    "        y_test1.loc[y_test1['utility']==one_min, 'pred']=0\n",
    "        y1 = y_test1[y_test1['pred']==0]\n",
    "        y2 = y_test1[y_test1['pred']==1]\n",
    "        zero_max = max(y1['utility']) \n",
    "        one_min = min(y2['utility']) \n",
    "        opt_th = (zero_max+one_min)/2\n",
    "        acc = metrics.accuracy_score(y_test1['pred'],(np.array(y_test1['utility'])>opt_th).astype(\"int32\"))\n",
    "        ong1.append(one_min)\n",
    "        if(acc<in_acc):\n",
    "          break\n",
    "        else:\n",
    "          in_acc = acc\n",
    "      final_one_min = one_min\n",
    "      y_test1 = pd.DataFrame(group1_pred,columns=['utility'])\n",
    "      y_test1['pred'] = group1_obs.values\n",
    "      y1 = y_test1[y_test1['pred']==0]\n",
    "      y2 = y_test1[y_test1['pred']==1]\n",
    "      zero_max = max(y1['utility']) \n",
    "      one_min = min(y2['utility']) \n",
    "      opt_th = (zero_max+one_min)/2\n",
    "      in_acc = metrics.accuracy_score(y_test1['pred'],(np.array(y_test1['utility'])>0.5).astype(\"int32\"))\n",
    "      while (True):\n",
    "        y_test1.loc[y_test1['utility']==zero_max, 'pred']=1\n",
    "        y1 = y_test1[y_test1['pred']==0]\n",
    "        y2 = y_test1[y_test1['pred']==1]\n",
    "        zero_max = max(y1['utility']) \n",
    "        one_min = min(y2['utility']) \n",
    "        opt_th = (zero_max+one_min)/2\n",
    "        acc = metrics.accuracy_score(y_test1['pred'],(np.array(y_test1['utility'])>opt_th).astype(\"int32\"))\n",
    "        zog1.append(zero_max)\n",
    "        if(acc<in_acc):\n",
    "          break\n",
    "        else:\n",
    "          in_acc = acc\n",
    "      opt_th = (zero_max+final_one_min)/2\n",
    "    else:\n",
    "      opt_th = one_min\n",
    "    g1_acc_sum = []\n",
    "    g1_t_sum = []\n",
    "    if(len(zog1)<len(ong1)):\n",
    "      for i in range(len(ong1)-len(zog1)):\n",
    "        zog1.append(zog1[-1])\n",
    "    else:\n",
    "      for i in range(len(zog1)-len(ong1)):\n",
    "        ong1.append(ong1[-1])\n",
    "    for i in range(len(zog1)):\n",
    "      threg1 = (zog1[i]+ong1[i])/2\n",
    "      g1_t_sum.append(threg1)\n",
    "      g1 = (np.array(group1_pred)>threg1).astype(\"int32\")\n",
    "      g1_acc = metrics.accuracy_score(g1,group1_obs)\n",
    "      g1_acc_sum.append(g1_acc)\n",
    "    max_acc_g1 = max(g1_acc_sum)\n",
    "    max_t_g1 =  g1_t_sum[g1_acc_sum.index(max_acc_g1)]\n",
    "    y_test2 = pd.DataFrame(group2_pred,columns=['utility'])\n",
    "    y_test2['pred'] = group2_obs.values\n",
    "    y1g2 = y_test2[y_test2['pred']==0]\n",
    "    y2g2 = y_test2[y_test2['pred']==1]\n",
    "    zero_max = max(y1g2['utility'])\n",
    "    one_min = min(y2g2['utility'])\n",
    "    zog2 = []\n",
    "    ong2  = []\n",
    "\n",
    "    in_acc = metrics.accuracy_score(y_test2['pred'],(np.array(y_test2['utility'])>0.5).astype(\"int32\"))\n",
    "    opt_th = (zero_max+one_min)/2\n",
    "    opt_th1 = opt_th\n",
    "    if(one_min < zero_max):\n",
    "      while (True):\n",
    "        y_test2.loc[y_test2['utility']==one_min, 'pred']=0\n",
    "        y1g2 = y_test2[y_test2['pred']==0]\n",
    "        y2g2 = y_test2[y_test2['pred']==1]\n",
    "        zero_max = max(y1g2['utility']) \n",
    "        one_min = min(y2g2['utility']) \n",
    "        opt_th = (zero_max+one_min)/2\n",
    "        acc = metrics.accuracy_score(y_test2['pred'],(np.array(y_test2['utility'])>opt_th).astype(\"int32\"))\n",
    "        ong2.append(one_min)\n",
    "        if(acc<in_acc):\n",
    "          break\n",
    "        else:\n",
    "          in_acc = acc\n",
    "      final_one_min = one_min\n",
    "      y_test2 = pd.DataFrame(group2_pred,columns=['utility'])\n",
    "      y_test2['pred'] = group2_obs.values\n",
    "      y1g2 = y_test2[y_test2['pred']==0]\n",
    "      y2g2 = y_test2[y_test2['pred']==1]\n",
    "      zero_max = max(y1g2['utility']) \n",
    "      one_min = min(y2g2['utility']) \n",
    "      opt_th = (zero_max+one_min)/2\n",
    "      in_acc = metrics.accuracy_score(y_test2['pred'],(np.array(y_test2['utility'])>0.5).astype(\"int32\"))\n",
    "      while (True):\n",
    "        y_test2.loc[y_test2['utility']==zero_max, 'pred']=1\n",
    "        y1g2 = y_test2[y_test2['pred']==0]\n",
    "        y2g2 = y_test2[y_test2['pred']==1]\n",
    "        zero_max = max(y1g2['utility']) \n",
    "        one_min = min(y2g2['utility']) \n",
    "        opt_th = (zero_max+one_min)/2\n",
    "        acc = metrics.accuracy_score(y_test2['pred'],(np.array(y_test2['utility'])>opt_th).astype(\"int32\"))\n",
    "        zog2.append(zero_max)\n",
    "        if(acc<in_acc):\n",
    "          break\n",
    "        else:\n",
    "          in_acc = acc\n",
    "      opt_th = (zero_max+final_one_min)/2\n",
    "    else:\n",
    "      opt_th = one_min\n",
    "    g2_acc_sum = []\n",
    "    g2_t_sum = []\n",
    "    if(len(zog2)<len(ong2)):\n",
    "      for i in range(len(ong2)-len(zog2)):\n",
    "        zog2.append(zog2[-1])\n",
    "    else:\n",
    "      for i in range(len(zog2)-len(ong2)):\n",
    "        ong2.append(ong2[-1])\n",
    "    for i in range(len(zog2)):\n",
    "      threg2 = (zog2[i]+ong2[i])/2\n",
    "      g2_t_sum.append(threg2)\n",
    "      g2 = (np.array(group2_pred)>threg2).astype(\"int32\")\n",
    "      g2_acc = metrics.accuracy_score(g2,group2_obs)\n",
    "      g2_acc_sum.append(g2_acc)\n",
    "    max_acc_g2 = max(g2_acc_sum)\n",
    "    max_t_g2 =  g2_t_sum[g2_acc_sum.index(max_acc_g2)]\n",
    "    z_accopt = calz (group1_pred,group2_pred,max_acc_g1,max_acc_g2)\n",
    "    if(abs(z_accopt)<=Zc):\n",
    "        end = time.perf_counter()\n",
    "        print('total computation time is ', end - start)\n",
    "        return(max_acc_g1,max_t_g1,max_acc_g2,max_t_g2,z_accopt)\n",
    "\n",
    "    if(max_acc_g1 > max_acc_g2):\n",
    "        p2 = max_acc_g2\n",
    "        n1 = len(group1_pred)\n",
    "        n2 = len(group2_pred)\n",
    "        p1_1,p1_2 = cal_p1(Zc,p2,n1,n2)\n",
    "        if( 1>=p1_1>=0 and 1>=p1_2>=0):\n",
    "          p1 = max(p1_1,p1_2)\n",
    "          for i in range(len(g1_acc_sum)-1):\n",
    "            if(g1_acc_sum[i+1]>=p1 and g1_acc_sum[i]<=p1):\n",
    "              g1_acc_sum_greed = []\n",
    "              g1_t_sum_greed = []\n",
    "              searchsize = int(abs(g1_t_sum[i+1]-g1_t_sum[i])/1*10000)\n",
    "              if(searchsize<=1):\n",
    "                max_t_g1 = g1_t_sum[i]+searchsize*abs(g1_t_sum[i+1]-g1_t_sum[i])\n",
    "                fair_z = calz(group1_pred,group2_pred,p1,max_acc_g2)\n",
    "                end = time.perf_counter()\n",
    "                print('total computation time is ', end - start)\n",
    "                return (p1,max_t_g1,max_acc_g2,max_t_g2,fair_z)\n",
    "              for j in range(searchsize):\n",
    "                g1 = (np.array(group1_pred)>g1_t_sum[i]+j*abs(g1_t_sum[i+1]-g1_t_sum[i])).astype(\"int32\")\n",
    "                g1_acc = metrics.accuracy_score(g1,group1_obs)\n",
    "                g1_acc_sum_greed.append(g1_acc)\n",
    "                g1_t_sum_greed.append(g1_t_sum[i]+j*abs(g1_t_sum[i+1]-g1_t_sum[i]))\n",
    "                if(abs(g1_acc-p1)<=0.01):\n",
    "                  max_t_g1 = g1_t_sum[i]+j*abs(g1_t_sum[i+1]-g1_t_sum[i])\n",
    "                  fair_z = calz(group1_pred,group2_pred,p1,max_acc_g2)\n",
    "                  end = time.perf_counter()\n",
    "                  print('total computation time is ', end - start)\n",
    "                  return (p1,max_t_g1,max_acc_g2,max_t_g2,fair_z)\n",
    "          therange = np.arange(0.0, 1.0, 1/1000)\n",
    "          for i in range(len(therange)-1):\n",
    "            g1_d = (np.array(group1_pred)>therange[i]).astype(\"int32\")\n",
    "            g1_d1 = (np.array(group1_pred)>therange[i+1]).astype(\"int32\")\n",
    "            g1_d_acc = metrics.accuracy_score(g1_d,group1_obs)\n",
    "            g1_d1_acc = metrics.accuracy_score(g1_d1,group1_obs)\n",
    "            if((g1_d_acc>=p1 and g1_d1_acc<=p1) or (g1_d_acc<=p1 and g1_d1_acc>=p1)):\n",
    "              fair_z = calz(group1_pred,group2_pred,p1,max_acc_g2)\n",
    "              end = time.perf_counter()\n",
    "              print('total computation time is ', end - start)\n",
    "              return (p1,therange[i],max_acc_g2,max_t_g2,fair_z)\n",
    "    else:\n",
    "        p1 = max_acc_g1\n",
    "        n1 = len(group1_pred)\n",
    "        n2 = len(group2_pred)\n",
    "        p2_1,p2_2 = cal_p2(Zc,p1,n1,n2)\n",
    "        if( 1>=p2_1>=0 and 1>=p2_2>=0):\n",
    "          p2 = max(p2_2,p2_1)\n",
    "          for i in range(len(g2_acc_sum)-1):\n",
    "            if((g2_acc_sum[i+1]>=p1 and g2_acc_sum[i]<=p1) or (g2_acc_sum[i+1]<=p1 and g2_acc_sum[i]>=p1) ):\n",
    "              g2_acc_sum_greed = []\n",
    "              g2_t_sum_greed = []\n",
    "              searchsize = int(abs(g2_t_sum[i+1]-g2_t_sum[i])/1*10000)\n",
    "              if(searchsize<=1):\n",
    "                  max_t_g2 = g2_t_sum[i]+searchsize*abs(g2_t_sum[i+1]-g2_t_sum[i])\n",
    "                  fair_z = calz(group1_pred,group2_pred,max_acc_g1,p2)\n",
    "                  end = time.perf_counter()\n",
    "                  print('total computation time is ', end - start)\n",
    "                  return (max_acc_g1,max_t_g1,p2,max_t_g2,fair_z)\n",
    "              for j in range(searchsize):\n",
    "                g2 = (np.array(group2_pred)>g2_t_sum[i]+j*abs(g2_t_sum[i+1]-g2_t_sum[i])).astype(\"int32\")\n",
    "                g2_acc = metrics.accuracy_score(g2,group2_obs)\n",
    "                g2_acc_sum_greed.append(g2_acc)\n",
    "                g2_t_sum_greed.append(g2_t_sum[i]+j*abs(g2_t_sum[i+1]-g2_t_sum[i]))\n",
    "                if(abs(g2_acc-p2)<=0.01):\n",
    "                  max_t_g2 = g2_t_sum[i]+j*abs(g2_t_sum[i+1]-g2_t_sum[i])\n",
    "                  fair_z = calz(group1_pred,group2_pred,max_acc_g1,p2)\n",
    "                  end = time.perf_counter()\n",
    "                  print('total computation time is ', end - start)\n",
    "                  return (max_acc_g1,max_t_g1,p2,max_t_g2,fair_z)\n",
    "          therange = np.arange(0.0, 1.0, 1/1000)\n",
    "          for i in range(len(therange)-1):\n",
    "            g2_d = (np.array(group2_pred)>therange[i]).astype(\"int32\")\n",
    "            g2_d1 = (np.array(group2_pred)>therange[i+1]).astype(\"int32\")\n",
    "            g2_d_acc = metrics.accuracy_score(g2_d,group2_obs)\n",
    "            g2_d1_acc = metrics.accuracy_score(g2_d1,group2_obs)\n",
    "            if((g2_d_acc>=p2 and g2_d1_acc<=p2) or (g2_d_acc<=p2 and g2_d1_acc>=p2)):\n",
    "              fair_z = calz(group1_pred,group2_pred,max_acc_g1,p2)\n",
    "              end = time.perf_counter()\n",
    "              print('total computation time is ', end - start)\n",
    "              return (max_acc_g1,max_t_g1,p2,therange[i],fair_z)"
   ]
  },
  {
   "cell_type": "code",
   "execution_count": 42,
   "id": "9a3247c5",
   "metadata": {},
   "outputs": [
    {
     "name": "stdout",
     "output_type": "stream",
     "text": [
      "total computation time is  1.7091171999999943\n"
     ]
    },
    {
     "data": {
      "text/plain": [
       "(0.923095976249650,\n",
       " 0.321,\n",
       " 0.9171374764595104,\n",
       " 0.5291506052017212,\n",
       " 1.958267345756028)"
      ]
     },
     "execution_count": 42,
     "metadata": {},
     "output_type": "execute_result"
    }
   ],
   "source": [
    "findopt_heu_v1(1.96,m_highinv,m_lowinv,y_highinv,y_lowinv)"
   ]
  },
  {
   "cell_type": "code",
   "execution_count": 56,
   "id": "752e14b8",
   "metadata": {},
   "outputs": [
    {
     "name": "stdout",
     "output_type": "stream",
     "text": [
      "0.9217410260136608 0.9201222173723265\n",
      "0.2667555949034262\n"
     ]
    }
   ],
   "source": [
    "y_hin = (model.predict(x_test_highin)>0.32).astype(\"int32\")\n",
    "acc_hin = metrics.accuracy_score(y_hin,y_test_highin)\n",
    "\n",
    "y_lin = (model.predict(x_test_lowin)>0.53).astype(\"int32\")\n",
    "acc_lin = metrics.accuracy_score(y_lin,y_test_lowin)\n",
    "\n",
    "print(acc_hin,acc_lin)\n",
    "print(calz(y_hin,y_lin,acc_hin,acc_lin))"
   ]
  },
  {
   "cell_type": "code",
   "execution_count": 57,
   "id": "0b9b4ea0",
   "metadata": {},
   "outputs": [
    {
     "name": "stdout",
     "output_type": "stream",
     "text": [
      "total computation time is  1.088739899999993\n"
     ]
    },
    {
     "data": {
      "text/plain": [
       "(0.903175497292509,\n",
       " 0.2,\n",
       " 0.8976634542050891,\n",
       " 0.5166342705488205,\n",
       " 1.9563937945309318)"
      ]
     },
     "execution_count": 57,
     "metadata": {},
     "output_type": "execute_result"
    }
   ],
   "source": [
    "findopt_heu_v1(1.96,m_mav,m_minv,y_mav,y_minv)"
   ]
  },
  {
   "cell_type": "code",
   "execution_count": 58,
   "id": "591df3bc",
   "metadata": {},
   "outputs": [
    {
     "name": "stdout",
     "output_type": "stream",
     "text": [
      "0.9041589870983252 0.8945159485170677\n",
      "1.709663072717628\n"
     ]
    }
   ],
   "source": [
    "y_ma = (model.predict(x_test_ma)>0.20).astype(\"int32\")\n",
    "acc_ma = metrics.accuracy_score(y_ma,y_test_ma)\n",
    "\n",
    "y_min = (model.predict(x_test_min)>0.52).astype(\"int32\")\n",
    "acc_min = metrics.accuracy_score(y_min,y_test_min)\n",
    "\n",
    "print(acc_ma,acc_min)\n",
    "print(calz(y_ma,y_min,acc_ma,acc_min))"
   ]
  },
  {
   "cell_type": "code",
   "execution_count": 46,
   "id": "12603375",
   "metadata": {},
   "outputs": [
    {
     "name": "stdout",
     "output_type": "stream",
     "text": [
      "total computation time is  0.5340530999999942\n"
     ]
    },
    {
     "data": {
      "text/plain": [
       "(0.932734562729783,\n",
       " 0.302,\n",
       " 0.9253820033955857,\n",
       " 0.500408485531807,\n",
       " 1.9152577932912471)"
      ]
     },
     "execution_count": 46,
     "metadata": {},
     "output_type": "execute_result"
    }
   ],
   "source": [
    "findopt_heu_v1(1.96,m_wmedv,m_nomedv,y_wmedv,y_nomedv)"
   ]
  },
  {
   "cell_type": "code",
   "execution_count": 64,
   "id": "3582ad5f",
   "metadata": {},
   "outputs": [
    {
     "name": "stdout",
     "output_type": "stream",
     "text": [
      "0.9230171073094868 0.9261867677930521\n",
      "-0.4162926033427453\n"
     ]
    }
   ],
   "source": [
    "y_wmed = (model.predict(x_test_wmed)>0.30).astype(\"int32\")\n",
    "acc_wmed = metrics.accuracy_score(y_wmed,y_test_wmed)\n",
    "\n",
    "y_nomed = (model.predict(x_test_nomed)>0.50).astype(\"int32\")\n",
    "acc_nomed = metrics.accuracy_score(y_nomed,y_test_nomed)\n",
    "\n",
    "print(acc_wmed,acc_nomed)\n",
    "print(calz(y_wmed,y_nomed,acc_wmed,acc_nomed))"
   ]
  },
  {
   "cell_type": "code",
   "execution_count": 60,
   "id": "8d6dd53a",
   "metadata": {},
   "outputs": [
    {
     "name": "stdout",
     "output_type": "stream",
     "text": [
      "total computation time is  0.16418840000000046\n"
     ]
    },
    {
     "data": {
      "text/plain": [
       "(0.9289501897945582,\n",
       " 0.5028490126132965,\n",
       " 0.9252474914135632,\n",
       " 0.49744823575019836,\n",
       " 1.8010002450737794)"
      ]
     },
     "execution_count": 60,
     "metadata": {},
     "output_type": "execute_result"
    }
   ],
   "source": [
    "findopt_heu_v1(1.96,m_femalev,m_malev,y_femalev,y_malev)"
   ]
  },
  {
   "cell_type": "code",
   "execution_count": 65,
   "id": "28a33d9d",
   "metadata": {},
   "outputs": [
    {
     "name": "stdout",
     "output_type": "stream",
     "text": [
      "0.9279445727482679 0.9250642499661842\n",
      "0.6975694123889138\n"
     ]
    }
   ],
   "source": [
    "y_female = (model.predict(x_test_female)>0.50).astype(\"int32\")\n",
    "acc_female = metrics.accuracy_score(y_female,y_test_female)\n",
    "\n",
    "y_male = (model.predict(x_test_male)>0.50).astype(\"int32\")\n",
    "acc_male = metrics.accuracy_score(y_male,y_test_male)\n",
    "\n",
    "print(acc_female,acc_male)\n",
    "print(calz(y_female,y_male,acc_female,acc_male))"
   ]
  },
  {
   "cell_type": "code",
   "execution_count": 50,
   "id": "8d4d9533",
   "metadata": {},
   "outputs": [
    {
     "name": "stdout",
     "output_type": "stream",
     "text": [
      "total computation time is  0.5727892999999966\n"
     ]
    },
    {
     "data": {
      "text/plain": [
       "(0.9167163400640786,\n",
       " 0.5020686388015747,\n",
       " 0.922459781138853,\n",
       " 0.149,\n",
       " -1.9310212086508922)"
      ]
     },
     "execution_count": 50,
     "metadata": {},
     "output_type": "execute_result"
    }
   ],
   "source": [
    "findopt_heu_v1(1.96,m_urbanv,m_ruralv,y_urbanv,y_ruralv)"
   ]
  },
  {
   "cell_type": "code",
   "execution_count": 66,
   "id": "fc9280aa",
   "metadata": {},
   "outputs": [
    {
     "name": "stdout",
     "output_type": "stream",
     "text": [
      "0.9169338602639624 0.9205147615442847\n",
      "-0.6115568224699675\n"
     ]
    }
   ],
   "source": [
    "y_urban = (model.predict(x_test_urban)>0.50).astype(\"int32\")\n",
    "acc_urban = metrics.accuracy_score(y_urban,y_test_urban)\n",
    "\n",
    "y_rural = (model.predict(x_test_rural)>0.15).astype(\"int32\")\n",
    "acc_rural = metrics.accuracy_score(y_rural,y_test_rural)\n",
    "\n",
    "print(acc_urban,acc_rural)\n",
    "print(calz(y_urban,y_rural,acc_urban,acc_rural))"
   ]
  },
  {
   "cell_type": "code",
   "execution_count": 52,
   "id": "c663018d",
   "metadata": {},
   "outputs": [
    {
     "name": "stdout",
     "output_type": "stream",
     "text": [
      "total computation time is  0.18945510000000354\n"
     ]
    },
    {
     "data": {
      "text/plain": [
       "(0.9278292016881229,\n",
       " 0.5004027932882309,\n",
       " 0.9227127319257837,\n",
       " 0.5500858724117279,\n",
       " 1.6316190718757249)"
      ]
     },
     "execution_count": 52,
     "metadata": {},
     "output_type": "execute_result"
    }
   ],
   "source": [
    "findopt_heu_v1(1.96,m_driverv,m_nodriverv,y_driverv,y_nodriverv)"
   ]
  },
  {
   "cell_type": "code",
   "execution_count": 67,
   "id": "d6fe1242",
   "metadata": {},
   "outputs": [
    {
     "name": "stdout",
     "output_type": "stream",
     "text": [
      "0.9272778921951566 0.9219066937119675\n",
      "0.8566795033494697\n"
     ]
    }
   ],
   "source": [
    "y_driver = (model.predict(x_test_driver)>0.50).astype(\"int32\")\n",
    "acc_driver = metrics.accuracy_score(y_driver,y_test_driver)\n",
    "\n",
    "y_nodriver = (model.predict(x_test_nodriver)>0.55).astype(\"int32\")\n",
    "acc_nodriver = metrics.accuracy_score(y_nodriver,y_test_nodriver)\n",
    "\n",
    "print(acc_driver,acc_nodriver)\n",
    "print(calz(y_driver,y_nodriver,acc_driver,acc_nodriver))"
   ]
  },
  {
   "cell_type": "code",
   "execution_count": 54,
   "id": "4c451ce9",
   "metadata": {},
   "outputs": [
    {
     "name": "stdout",
     "output_type": "stream",
     "text": [
      "total computation time is  1.6820266999999944\n"
     ]
    },
    {
     "data": {
      "text/plain": [
       "(0.915002871840669,\n",
       " 0.275,\n",
       " 0.9056291390728477,\n",
       " 0.5511737316846848,\n",
       " 1.9583778453570209)"
      ]
     },
     "execution_count": 54,
     "metadata": {},
     "output_type": "execute_result"
    }
   ],
   "source": [
    "findopt_heu_v1(1.96,m_heduv,m_leduv,y_heduv,y_leduv)"
   ]
  },
  {
   "cell_type": "code",
   "execution_count": 68,
   "id": "cfd2bae3",
   "metadata": {},
   "outputs": [
    {
     "name": "stdout",
     "output_type": "stream",
     "text": [
      "0.9158964879852126 0.9104972375690608\n",
      "0.5675638708412659\n"
     ]
    }
   ],
   "source": [
    "y_high_edu = (model.predict(x_test_high_edu)>0.28).astype(\"int32\")\n",
    "acc_high_edu = metrics.accuracy_score(y_high_edu,y_test_high_edu)\n",
    "\n",
    "y_low_edu = (model.predict(x_test_low_edu)>0.55).astype(\"int32\")\n",
    "acc_low_edu = metrics.accuracy_score(y_low_edu,y_test_low_edu)\n",
    "\n",
    "print(acc_high_edu,acc_low_edu)\n",
    "print(calz(y_high_edu,y_low_edu,acc_high_edu,acc_low_edu))"
   ]
  },
  {
   "cell_type": "code",
   "execution_count": null,
   "id": "2caeded5",
   "metadata": {},
   "outputs": [],
   "source": []
  }
 ],
 "metadata": {
  "kernelspec": {
   "display_name": "Python 3",
   "language": "python",
   "name": "python3"
  },
  "language_info": {
   "codemirror_mode": {
    "name": "ipython",
    "version": 3
   },
   "file_extension": ".py",
   "mimetype": "text/x-python",
   "name": "python",
   "nbconvert_exporter": "python",
   "pygments_lexer": "ipython3",
   "version": "3.9.1"
  }
 },
 "nbformat": 4,
 "nbformat_minor": 5
}
